{
  "cells": [
    {
      "cell_type": "markdown",
      "metadata": {
        "id": "view-in-github",
        "colab_type": "text"
      },
      "source": [
        "<a href=\"https://colab.research.google.com/github/ankitha2021/IEEE_leukemia_detection/blob/main/leukemia_detection.ipynb\" target=\"_parent\"><img src=\"https://colab.research.google.com/assets/colab-badge.svg\" alt=\"Open In Colab\"/></a>"
      ]
    },
    {
      "cell_type": "code",
      "execution_count": null,
      "metadata": {
        "colab": {
          "base_uri": "https://localhost:8080/"
        },
        "id": "gQUTHYskKRgb",
        "outputId": "af98e4b5-72b5-4838-a925-27ea7dd6b670"
      },
      "outputs": [
        {
          "name": "stdout",
          "output_type": "stream",
          "text": [
            "Mounted at /content/drive\n"
          ]
        }
      ],
      "source": [
        "from google.colab import drive\n",
        "drive.mount('/content/drive')"
      ]
    },
    {
      "cell_type": "code",
      "execution_count": null,
      "metadata": {
        "id": "14fUBUPaKXZk"
      },
      "outputs": [],
      "source": [
        "from imutils import paths\n",
        "from google.colab.patches import cv2_imshow\n",
        "import cv2 as cv\n",
        "import numpy as np\n",
        "from matplotlib import pyplot as plt\n",
        "from numpy import array\n",
        "import os\n",
        "from os import listdir\n",
        "from os.path import isfile, join\n"
      ]
    },
    {
      "cell_type": "markdown",
      "metadata": {
        "id": "_cJDgGZl2Hjq"
      },
      "source": [
        "**Benign segmentation**"
      ]
    },
    {
      "cell_type": "code",
      "execution_count": null,
      "metadata": {
        "id": "TPrFlWkoKaEw"
      },
      "outputs": [],
      "source": [
        "# Code to load all images from the folder to a list\n",
        "images = {}\n",
        "im2 = []\n",
        "\n",
        "for root, dirs, files in os.walk(\"/content/drive/MyDrive/Benign\"):\n",
        "   path = root.split(os.sep)\n",
        "   for index, file in enumerate(files):\n",
        "      im2 = [ f for f in listdir(root) if isfile(join(root,f)) ]\n",
        "      images[index] = join(root,im2[index])\n",
        "\n",
        "\n",
        "Imglist=list(images.values())"
      ]
    },
    {
      "cell_type": "code",
      "execution_count": null,
      "metadata": {
        "colab": {
          "base_uri": "https://localhost:8080/",
          "height": 1000
        },
        "id": "Bz7i9cbIF8_b",
        "outputId": "e07c8ae5-381f-486d-878f-bd4f4a75a489"
      },
      "outputs": [],
      "source": [
        "for i in Imglist:                                     # i is the iterator for the images in the Imagelist\n",
        "  img = cv.imread(i)                                  #reading the image\n",
        "  cv2_imshow(img)\n",
        "  gray_image = cv.cvtColor(img, cv.COLOR_BGR2GRAY)    #converting rgb image to grayscale\n",
        "  #cv2_imshow(gray_image)\n",
        "  pixel_array=array(gray_image)                       #finding pixel array for the gray image\n",
        "  minval=int(pixel_array.min())\n",
        "  #print(minval)\n",
        "  mask = cv.inRange(gray_image,minval,150)\n",
        "  res_colour=cv.bitwise_and(img, img, mask=mask)\n",
        "  cv2_imshow(res_colour)\n",
        "  print()\n",
        "\n",
        "\n",
        "\n"
      ]
    },
    {
      "cell_type": "markdown",
      "metadata": {
        "id": "rqXNq5-g20lZ"
      },
      "source": [
        "**EARLY SEGMENTATION**"
      ]
    },
    {
      "cell_type": "code",
      "execution_count": null,
      "metadata": {
        "colab": {
          "background_save": true
        },
        "id": "ck7CNHPA268O"
      },
      "outputs": [],
      "source": [
        "images = {}\n",
        "im2 = []\n",
        "\n",
        "for root, dirs, files in os.walk(\"/content/drive/MyDrive/Early\"):\n",
        "   path = root.split(os.sep)\n",
        "   for index, file in enumerate(files):\n",
        "      im2 = [ f for f in listdir(root) if isfile(join(root,f)) ]\n",
        "      images[index] = join(root,im2[index])\n",
        "\n",
        "\n",
        "Imglist=list(images.values())"
      ]
    },
    {
      "cell_type": "code",
      "execution_count": null,
      "metadata": {
        "colab": {
          "background_save": true
        },
        "id": "jZBgnoRi3Fj2",
        "outputId": "0130df79-f4e8-4baf-a5b9-8702c31fe90e"
      },
      "outputs": [],
      "source": [
        "for i in Imglist:                                     # i is the iterator for the images in the Imagelist\n",
        "  img = cv.imread(i)                                  #reading the image\n",
        "  cv2_imshow(img)\n",
        "  gray_image = cv.cvtColor(img, cv.COLOR_BGR2GRAY)    #converting rgb image to grayscale\n",
        "  #cv2_imshow(gray_image)\n",
        "  pixel_array=array(gray_image)                       #finding pixel array for the gray image\n",
        "  minval=int(pixel_array.min())\n",
        "  #print(minval)\n",
        "  mask = cv.inRange(gray_image,minval,150)\n",
        "  res_colour=cv.bitwise_and(img, img, mask=mask)\n",
        "  cv2_imshow(res_colour)\n",
        "  print()\n",
        "\n",
        "\n",
        "\n"
      ]
    },
    {
      "cell_type": "markdown",
      "metadata": {
        "id": "TuoXOifBGgJO"
      },
      "source": [
        "**PRE SEGMENTATION**"
      ]
    },
    {
      "cell_type": "code",
      "execution_count": null,
      "metadata": {
        "id": "gxR0Sdp1Gn_b"
      },
      "outputs": [],
      "source": [
        "images = {}\n",
        "im2 = []\n",
        "\n",
        "for root, dirs, files in os.walk(\"/content/drive/MyDrive/Pre\"):\n",
        "   path = root.split(os.sep)\n",
        "   for index, file in enumerate(files):\n",
        "      im2 = [ f for f in listdir(root) if isfile(join(root,f)) ]\n",
        "      images[index] = join(root,im2[index])\n",
        "\n",
        "\n",
        "Imglist=list(images.values())"
      ]
    },
    {
      "cell_type": "code",
      "execution_count": null,
      "metadata": {
        "colab": {
          "background_save": true
        },
        "id": "EPSbxJNUGoTs",
        "outputId": "a8d41554-efcc-41e6-933f-2b19aa334fd2"
      },
      "outputs": [],
      "source": [
        "for i in Imglist:                                     # i is the iterator for the images in the Imagelist\n",
        "  img = cv.imread(i)                                  #reading the image\n",
        "  cv2_imshow(img)\n",
        "  gray_image = cv.cvtColor(img, cv.COLOR_BGR2GRAY)    #converting rgb image to grayscale\n",
        "  #cv2_imshow(gray_image)\n",
        "  pixel_array=array(gray_image)                       #finding pixel array for the gray image\n",
        "  minval=int(pixel_array.min())\n",
        "  #print(minval)\n",
        "  mask = cv.inRange(gray_image,minval,150)\n",
        "  res_colour=cv.bitwise_and(img, img, mask=mask)\n",
        "  cv2_imshow(res_colour)\n",
        "  print()\n",
        "\n",
        "\n",
        "\n"
      ]
    },
    {
      "cell_type": "markdown",
      "metadata": {
        "id": "DYWr9hAyI5xn"
      },
      "source": [
        "**PRO SEGMENTATION**"
      ]
    },
    {
      "cell_type": "code",
      "execution_count": null,
      "metadata": {
        "id": "XEYULReSI86n"
      },
      "outputs": [],
      "source": [
        "images = {}\n",
        "im2 = []\n",
        "\n",
        "for root, dirs, files in os.walk(\"/content/drive/MyDrive/Pro\"):\n",
        "   path = root.split(os.sep)\n",
        "   for index, file in enumerate(files):\n",
        "      im2 = [ f for f in listdir(root) if isfile(join(root,f)) ]\n",
        "      images[index] = join(root,im2[index])\n",
        "\n",
        "\n",
        "Imglist=list(images.values())"
      ]
    },
    {
      "cell_type": "code",
      "execution_count": null,
      "metadata": {
        "colab": {
          "background_save": true
        },
        "id": "gPQK8PBeI9OB",
        "outputId": "89ffb747-127e-4f16-9ed8-f509173b4536"
      },
      "outputs": [],
      "source": [
        "for i in Imglist:                                     # i is the iterator for the images in the Imagelist\n",
        "  img = cv.imread(i)                                  #reading the image\n",
        "  cv2_imshow(img)\n",
        "  gray_image = cv.cvtColor(img, cv.COLOR_BGR2GRAY)    #converting rgb image to grayscale\n",
        "  #cv2_imshow(gray_image)\n",
        "  pixel_array=array(gray_image)                       #finding pixel array for the gray image\n",
        "  minval=int(pixel_array.min())\n",
        "  #print(minval)\n",
        "  mask = cv.inRange(gray_image,minval,150)\n",
        "  res_colour=cv.bitwise_and(img, img, mask=mask)\n",
        "  cv2_imshow(res_colour)\n",
        "  print()\n",
        "\n",
        "\n",
        "\n"
      ]
    }
  ],
  "metadata": {
    "colab": {
      "provenance": [],
      "include_colab_link": true
    },
    "kernelspec": {
      "display_name": "Python 3",
      "name": "python3"
    },
    "language_info": {
      "name": "python"
    }
  },
  "nbformat": 4,
  "nbformat_minor": 0
}
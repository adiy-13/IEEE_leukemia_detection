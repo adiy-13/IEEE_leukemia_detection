{
  "cells": [
    {
      "cell_type": "markdown",
      "metadata": {
        "id": "view-in-github",
        "colab_type": "text"
      },
      "source": [
        "<a href=\"https://colab.research.google.com/github/ankitha2021/IEEE_leukemia_detection/blob/main/leukemia_detection.ipynb\" target=\"_parent\"><img src=\"https://colab.research.google.com/assets/colab-badge.svg\" alt=\"Open In Colab\"/></a>"
      ]
    },
    {
      "cell_type": "code",
      "execution_count": 1,
      "metadata": {
        "id": "gQUTHYskKRgb",
        "colab": {
          "base_uri": "https://localhost:8080/"
        },
        "outputId": "cb786da0-9de9-4f10-db09-81a12d601fa5"
      },
      "outputs": [
        {
          "output_type": "stream",
          "name": "stdout",
          "text": [
            "Mounted at /content/drive\n"
          ]
        }
      ],
      "source": [
        "from google.colab import drive\n",
        "drive.mount('/content/drive')"
      ]
    },
    {
      "cell_type": "code",
      "execution_count": null,
      "metadata": {
        "id": "14fUBUPaKXZk"
      },
      "outputs": [],
      "source": [
        "from imutils import paths\n",
        "from google.colab.patches import cv2_imshow\n",
        "import cv2 as cv\n",
        "import numpy as np\n",
        "from matplotlib import pyplot as plt\n",
        "from numpy import array\n",
        "import os\n",
        "from os import listdir\n",
        "from os.path import isfile, join\n"
      ]
    },
    {
      "cell_type": "markdown",
      "metadata": {
        "id": "_cJDgGZl2Hjq"
      },
      "source": [
        "**Benign segmentation**"
      ]
    },
    {
      "cell_type": "code",
      "execution_count": null,
      "metadata": {
        "id": "TPrFlWkoKaEw"
      },
      "outputs": [],
      "source": [
        "# Code to load all images from the folder to a list\n",
        "images = {}\n",
        "im2 = []\n",
        "\n",
        "for root, dirs, files in os.walk(\"https://drive.google.com/drive/folders/166Cq9E2VCx5eiwGSSnAHHcqfkX7Q6Ql0?usp=drive_link\"):\n",
        "   path = root.split(os.sep)\n",
        "   for index, file in enumerate(files):\n",
        "      im2 = [ f for f in listdir(root) if isfile(join(root,f)) ]\n",
        "      images[index] = join(root,im2[index])\n",
        "\n",
        "\n",
        "Imglist=list(images.values())"
      ]
    },
    {
      "cell_type": "code",
      "execution_count": null,
      "metadata": {
        "id": "Bz7i9cbIF8_b"
      },
      "outputs": [],
      "source": [
        "for i in Imglist:\n",
        "  img = cv.imread(i)\n",
        "  cv2_imshow(img)\n",
        "  g = img [:,:,1] #extracting green channel\n",
        "  b = img [:,:,0] #extracting blue channel\n",
        "  r = img [:,:,2] #extracting red channel\n",
        "  clahe = cv.createCLAHE(clipLimit=3.0, tileGridSize=(8,8)) #adaptive histogram equalisation\n",
        "  cl = clahe.apply(b)   #increasing the contrast of blue channel bcs that was the least contrast\n",
        "  m=cv.merge((g,cl,r))  #merging all 3 channels back to form bgr image\n",
        "  #cv2_imshow(m)\n",
        "  hsv_image = cv.cvtColor(m, cv.COLOR_BGR2HSV)\n",
        "  # cv2_imshow(hsv_image)\n",
        "  lower_green = np.array([20, 50, 50])\n",
        "  upper_green = np.array([60, 255, 255])\n",
        "\n",
        "  mask = cv.inRange(hsv_image, lower_green, upper_green)\n",
        "\n",
        "  res = cv.bitwise_and(img, img, mask=mask)\n",
        "\n",
        "  cv2_imshow(res)\n",
        "\n",
        "\n",
        "\n"
      ]
    },
    {
      "cell_type": "markdown",
      "metadata": {
        "id": "rqXNq5-g20lZ"
      },
      "source": [
        "**EARLY SEGMENTATION**"
      ]
    },
    {
      "cell_type": "code",
      "execution_count": null,
      "metadata": {
        "id": "ck7CNHPA268O"
      },
      "outputs": [],
      "source": [
        "images = {}\n",
        "im2 = []\n",
        "\n",
        "for root, dirs, files in os.walk(\"/content/drive/MyDrive/Early\"):\n",
        "   path = root.split(os.sep)\n",
        "   for index, file in enumerate(files):\n",
        "      im2 = [ f for f in listdir(root) if isfile(join(root,f)) ]\n",
        "      images[index] = join(root,im2[index])\n",
        "\n",
        "\n",
        "Imglist=list(images.values())"
      ]
    },
    {
      "cell_type": "code",
      "execution_count": null,
      "metadata": {
        "colab": {
          "background_save": true
        },
        "id": "lp51WDQVx-31"
      },
      "outputs": [],
      "source": [
        "for i in Imglist:\n",
        "  img = cv.imread(i)\n",
        "  cv2_imshow(img)\n",
        "  g = img [:,:,1] #extracting green channel\n",
        "  b = img [:,:,0] #extracting blue channel\n",
        "  r = img [:,:,2] #extracting red channel\n",
        "  clahe = cv.createCLAHE(clipLimit=3.0, tileGridSize=(8,8)) #adaptive histogram equalisation\n",
        "  cl = clahe.apply(b)   #increasing the contrast of blue channel bcs that was the least contrast\n",
        "  m=cv.merge((g,cl,r))  #merging all 3 channels back to form bgr image\n",
        "  #cv2_imshow(m)\n",
        "  hsv_image = cv.cvtColor(m, cv.COLOR_BGR2HSV)\n",
        "  # cv2_imshow(hsv_image)\n",
        "  lower_green = np.array([20, 50, 50])\n",
        "  upper_green = np.array([60, 255, 255])\n",
        "\n",
        "  mask = cv.inRange(hsv_image, lower_green, upper_green)\n",
        "\n",
        "  res = cv.bitwise_and(img, img, mask=mask)\n",
        "\n",
        "  cv2_imshow(res)\n",
        "\n",
        "\n",
        "\n",
        "\n"
      ]
    },
    {
      "cell_type": "markdown",
      "metadata": {
        "id": "TuoXOifBGgJO"
      },
      "source": [
        "**PRE SEGMENTATION**"
      ]
    },
    {
      "cell_type": "code",
      "execution_count": null,
      "metadata": {
        "id": "gxR0Sdp1Gn_b"
      },
      "outputs": [],
      "source": [
        "images = {}\n",
        "im2 = []\n",
        "\n",
        "for root, dirs, files in os.walk(\"/content/drive/MyDrive/Pre\"):\n",
        "   path = root.split(os.sep)\n",
        "   for index, file in enumerate(files):\n",
        "      im2 = [ f for f in listdir(root) if isfile(join(root,f)) ]\n",
        "      images[index] = join(root,im2[index])\n",
        "\n",
        "\n",
        "Imglist=list(images.values())"
      ]
    },
    {
      "cell_type": "code",
      "execution_count": null,
      "metadata": {
        "id": "UhiSRDeanCe9"
      },
      "outputs": [],
      "source": [
        "for i in Imglist:\n",
        "  img = cv.imread(i)\n",
        "  cv2_imshow(img)\n",
        "  g = img [:,:,1] #extracting green channel\n",
        "  b = img [:,:,0] #extracting blue channel\n",
        "  r = img [:,:,2] #extracting red channel\n",
        "  clahe = cv.createCLAHE(clipLimit=3.0, tileGridSize=(8,8)) #adaptive histogram equalisation\n",
        "  cl = clahe.apply(b)   #increasing the contrast of blue channel bcs that was the least contrast\n",
        "  m=cv.merge((g,cl,r))  #merging all 3 channels back to form bgr image\n",
        "  #cv2_imshow(m)\n",
        "  hsv_image = cv.cvtColor(m, cv.COLOR_BGR2HSV)\n",
        "  # cv2_imshow(hsv_image)\n",
        "  lower_green = np.array([20, 50, 50])\n",
        "  upper_green = np.array([60, 255, 255])\n",
        "\n",
        "  mask = cv.inRange(hsv_image, lower_green, upper_green)\n",
        "\n",
        "  res = cv.bitwise_and(hsv_image, hsv_image, mask=mask)\n",
        "\n",
        "  cv2_imshow(res)\n",
        "\n",
        "\n",
        "\n",
        "\n"
      ]
    },
    {
      "cell_type": "markdown",
      "metadata": {
        "id": "DYWr9hAyI5xn"
      },
      "source": [
        "**PRO SEGMENTATION**"
      ]
    },
    {
      "cell_type": "code",
      "execution_count": null,
      "metadata": {
        "id": "XEYULReSI86n"
      },
      "outputs": [],
      "source": [
        "images = {}\n",
        "im2 = []\n",
        "\n",
        "for root, dirs, files in os.walk(\"/content/drive/MyDrive/Pro\"):\n",
        "   path = root.split(os.sep)\n",
        "   for index, file in enumerate(files):\n",
        "      im2 = [ f for f in listdir(root) if isfile(join(root,f)) ]\n",
        "      images[index] = join(root,im2[index])\n",
        "\n",
        "\n",
        "Imglist=list(images.values())"
      ]
    },
    {
      "cell_type": "code",
      "source": [
        "for i in Imglist:\n",
        "  img = cv.imread(i)\n",
        "  cv2_imshow(img)\n",
        "  g = img [:,:,1] #extracting green channel\n",
        "  b = img [:,:,0] #extracting blue channel\n",
        "  r = img [:,:,2] #extracting red channel\n",
        "  clahe = cv.createCLAHE(clipLimit=3.0, tileGridSize=(8,8)) #adaptive histogram equalisation\n",
        "  cl = clahe.apply(b)   #increasing the contrast of blue channel bcs that was the least contrast\n",
        "  m=cv.merge((g,cl,r))  #merging all 3 channels back to form bgr image\n",
        "  #cv2_imshow(m)\n",
        "  hsv_image = cv.cvtColor(m, cv.COLOR_BGR2HSV)\n",
        "  # cv2_imshow(hsv_image)\n",
        "  lower_green = np.array([0, 25, 50])\n",
        "  upper_green = np.array([55, 255, 255])\n",
        "\n",
        "  mask = cv.inRange(hsv_image, lower_green, upper_green)\n",
        "\n",
        "  res = cv.bitwise_and(img, img, mask=mask)\n",
        "\n",
        "  cv2_imshow(res)\n",
        "\n",
        "\n",
        "\n"
      ],
      "metadata": {
        "id": "ma78xzelkSWF"
      },
      "execution_count": null,
      "outputs": []
    }
  ],
  "metadata": {
    "colab": {
      "provenance": [],
      "include_colab_link": true
    },
    "kernelspec": {
      "display_name": "Python 3",
      "name": "python3"
    },
    "language_info": {
      "name": "python"
    }
  },
  "nbformat": 4,
  "nbformat_minor": 0
}